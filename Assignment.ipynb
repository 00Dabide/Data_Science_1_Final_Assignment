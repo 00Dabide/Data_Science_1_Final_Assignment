{
 "cells": [
  {
   "cell_type": "markdown",
   "metadata": {},
   "source": [
    "# Data Science 1 Final Assignment"
   ]
  },
  {
   "cell_type": "code",
   "execution_count": 374,
   "metadata": {},
   "outputs": [],
   "source": [
    "import numpy as np\n",
    "import pandas as pd\n",
    "\n",
    "from sklearn.linear_model import LinearRegression\n",
    "from sklearn.preprocessing import PolynomialFeatures\n",
    "import matplotlib.pyplot as plt\n",
    "from sklearn.decomposition import PCA"
   ]
  },
  {
   "cell_type": "code",
   "execution_count": 375,
   "metadata": {},
   "outputs": [],
   "source": [
    "np.random.seed(20240313)"
   ]
  },
  {
   "cell_type": "markdown",
   "metadata": {},
   "source": [
    "# 1"
   ]
  },
  {
   "cell_type": "markdown",
   "metadata": {},
   "source": [
    "## A.: How does the regularized estimator (predictor) βˆridge 0 compare with the OLS estimator?"
   ]
  },
  {
   "cell_type": "markdown",
   "metadata": {},
   "source": [
    "The difference between the OLS estimator and the regularized estimator β^ridge0, is that the latter one introduces a positive constant penalty term parameter, which penalizes large regression coefficients and gives larger penalty for a larger parameter.\n",
    "\n",
    "The β^ridge estimator is a biased version of β and has a lower variance than the OLS."
   ]
  },
  {
   "cell_type": "markdown",
   "metadata": {},
   "source": [
    "## B.: Beta ridge"
   ]
  },
  {
   "cell_type": "code",
   "execution_count": 376,
   "metadata": {},
   "outputs": [
    {
     "data": {
      "text/html": [
       "<div>\n",
       "<style scoped>\n",
       "    .dataframe tbody tr th:only-of-type {\n",
       "        vertical-align: middle;\n",
       "    }\n",
       "\n",
       "    .dataframe tbody tr th {\n",
       "        vertical-align: top;\n",
       "    }\n",
       "\n",
       "    .dataframe thead th {\n",
       "        text-align: right;\n",
       "    }\n",
       "</style>\n",
       "<table border=\"1\" class=\"dataframe\">\n",
       "  <thead>\n",
       "    <tr style=\"text-align: right;\">\n",
       "      <th></th>\n",
       "      <th>Lambda</th>\n",
       "      <th>Results</th>\n",
       "    </tr>\n",
       "  </thead>\n",
       "  <tbody>\n",
       "    <tr>\n",
       "      <th>0</th>\n",
       "      <td>1</td>\n",
       "      <td>1.478119</td>\n",
       "    </tr>\n",
       "    <tr>\n",
       "      <th>1</th>\n",
       "      <td>2</td>\n",
       "      <td>1.410932</td>\n",
       "    </tr>\n",
       "    <tr>\n",
       "      <th>2</th>\n",
       "      <td>3</td>\n",
       "      <td>1.349587</td>\n",
       "    </tr>\n",
       "    <tr>\n",
       "      <th>3</th>\n",
       "      <td>4</td>\n",
       "      <td>1.293354</td>\n",
       "    </tr>\n",
       "    <tr>\n",
       "      <th>4</th>\n",
       "      <td>5</td>\n",
       "      <td>1.241620</td>\n",
       "    </tr>\n",
       "    <tr>\n",
       "      <th>5</th>\n",
       "      <td>6</td>\n",
       "      <td>1.193865</td>\n",
       "    </tr>\n",
       "    <tr>\n",
       "      <th>6</th>\n",
       "      <td>7</td>\n",
       "      <td>1.149648</td>\n",
       "    </tr>\n",
       "    <tr>\n",
       "      <th>7</th>\n",
       "      <td>8</td>\n",
       "      <td>1.108589</td>\n",
       "    </tr>\n",
       "    <tr>\n",
       "      <th>8</th>\n",
       "      <td>9</td>\n",
       "      <td>1.070362</td>\n",
       "    </tr>\n",
       "    <tr>\n",
       "      <th>9</th>\n",
       "      <td>10</td>\n",
       "      <td>1.034683</td>\n",
       "    </tr>\n",
       "    <tr>\n",
       "      <th>10</th>\n",
       "      <td>11</td>\n",
       "      <td>1.001307</td>\n",
       "    </tr>\n",
       "    <tr>\n",
       "      <th>11</th>\n",
       "      <td>12</td>\n",
       "      <td>0.970016</td>\n",
       "    </tr>\n",
       "    <tr>\n",
       "      <th>12</th>\n",
       "      <td>13</td>\n",
       "      <td>0.940621</td>\n",
       "    </tr>\n",
       "    <tr>\n",
       "      <th>13</th>\n",
       "      <td>14</td>\n",
       "      <td>0.912956</td>\n",
       "    </tr>\n",
       "    <tr>\n",
       "      <th>14</th>\n",
       "      <td>15</td>\n",
       "      <td>0.886871</td>\n",
       "    </tr>\n",
       "    <tr>\n",
       "      <th>15</th>\n",
       "      <td>16</td>\n",
       "      <td>0.862236</td>\n",
       "    </tr>\n",
       "    <tr>\n",
       "      <th>16</th>\n",
       "      <td>17</td>\n",
       "      <td>0.838932</td>\n",
       "    </tr>\n",
       "    <tr>\n",
       "      <th>17</th>\n",
       "      <td>18</td>\n",
       "      <td>0.816855</td>\n",
       "    </tr>\n",
       "    <tr>\n",
       "      <th>18</th>\n",
       "      <td>19</td>\n",
       "      <td>0.795910</td>\n",
       "    </tr>\n",
       "    <tr>\n",
       "      <th>19</th>\n",
       "      <td>20</td>\n",
       "      <td>0.776013</td>\n",
       "    </tr>\n",
       "  </tbody>\n",
       "</table>\n",
       "</div>"
      ],
      "text/plain": [
       "    Lambda   Results\n",
       "0        1  1.478119\n",
       "1        2  1.410932\n",
       "2        3  1.349587\n",
       "3        4  1.293354\n",
       "4        5  1.241620\n",
       "5        6  1.193865\n",
       "6        7  1.149648\n",
       "7        8  1.108589\n",
       "8        9  1.070362\n",
       "9       10  1.034683\n",
       "10      11  1.001307\n",
       "11      12  0.970016\n",
       "12      13  0.940621\n",
       "13      14  0.912956\n",
       "14      15  0.886871\n",
       "15      16  0.862236\n",
       "16      17  0.838932\n",
       "17      18  0.816855\n",
       "18      19  0.795910\n",
       "19      20  0.776013"
      ]
     },
     "execution_count": 376,
     "metadata": {},
     "output_type": "execute_result"
    }
   ],
   "source": [
    "# Simplest possible predictive model\n",
    "\n",
    "# Suppose that β0 = 1 and ϵ ∼ N(0, σ) with σ2 = 4. Sample size of 20\n",
    "\n",
    "# Define the \"function\"\n",
    "Beta0 = 1\n",
    "\n",
    "# Sample size\n",
    "n = 20\n",
    "\n",
    "# Epsilon aka noise\n",
    "epsilon = np.random.normal(0, 2, n)\n",
    "\n",
    "\n",
    "Y = Beta0 + epsilon\n",
    "\n",
    "# collect results into a DataFrame\n",
    "result_columns = [\"Lambda\", \"Ridge\"]\n",
    "df = pd.DataFrame(columns=result_columns)\n",
    "\n",
    "#Init\n",
    "lambresults = []\n",
    "\n",
    "#Ridge solution\n",
    "for lamb in range(20):\n",
    "\n",
    "    loop = []\n",
    "    for i in range(n):\n",
    "        loop.append(Y[i]/(n+lamb+1))\n",
    "\n",
    "    lambresults.append(sum(loop))\n",
    "\n",
    "\n",
    "# Organize\n",
    "df = pd.DataFrame({\n",
    "    'Lambda': np.arange(1,21,1),\n",
    "    'Results': lambresults\n",
    "})\n",
    "\n",
    "df"
   ]
  },
  {
   "cell_type": "markdown",
   "metadata": {},
   "source": [
    "## C.: Repeat 1000 times"
   ]
  },
  {
   "cell_type": "code",
   "execution_count": 377,
   "metadata": {},
   "outputs": [
    {
     "data": {
      "text/html": [
       "<div>\n",
       "<style scoped>\n",
       "    .dataframe tbody tr th:only-of-type {\n",
       "        vertical-align: middle;\n",
       "    }\n",
       "\n",
       "    .dataframe tbody tr th {\n",
       "        vertical-align: top;\n",
       "    }\n",
       "\n",
       "    .dataframe thead th {\n",
       "        text-align: right;\n",
       "    }\n",
       "</style>\n",
       "<table border=\"1\" class=\"dataframe\">\n",
       "  <thead>\n",
       "    <tr style=\"text-align: right;\">\n",
       "      <th></th>\n",
       "      <th>Lambda</th>\n",
       "      <th>bias2</th>\n",
       "      <th>variance</th>\n",
       "      <th>MSE</th>\n",
       "    </tr>\n",
       "  </thead>\n",
       "  <tbody>\n",
       "    <tr>\n",
       "      <th>0</th>\n",
       "      <td>1</td>\n",
       "      <td>0.001220</td>\n",
       "      <td>0.195329</td>\n",
       "      <td>0.196549</td>\n",
       "    </tr>\n",
       "    <tr>\n",
       "      <th>1</th>\n",
       "      <td>2</td>\n",
       "      <td>0.006209</td>\n",
       "      <td>0.177975</td>\n",
       "      <td>0.184185</td>\n",
       "    </tr>\n",
       "    <tr>\n",
       "      <th>2</th>\n",
       "      <td>3</td>\n",
       "      <td>0.014126</td>\n",
       "      <td>0.162835</td>\n",
       "      <td>0.176961</td>\n",
       "    </tr>\n",
       "    <tr>\n",
       "      <th>3</th>\n",
       "      <td>4</td>\n",
       "      <td>0.024201</td>\n",
       "      <td>0.149549</td>\n",
       "      <td>0.173749</td>\n",
       "    </tr>\n",
       "    <tr>\n",
       "      <th>4</th>\n",
       "      <td>5</td>\n",
       "      <td>0.035851</td>\n",
       "      <td>0.137824</td>\n",
       "      <td>0.173675</td>\n",
       "    </tr>\n",
       "    <tr>\n",
       "      <th>5</th>\n",
       "      <td>6</td>\n",
       "      <td>0.048630</td>\n",
       "      <td>0.127426</td>\n",
       "      <td>0.176056</td>\n",
       "    </tr>\n",
       "    <tr>\n",
       "      <th>6</th>\n",
       "      <td>7</td>\n",
       "      <td>0.062197</td>\n",
       "      <td>0.118162</td>\n",
       "      <td>0.180358</td>\n",
       "    </tr>\n",
       "    <tr>\n",
       "      <th>7</th>\n",
       "      <td>8</td>\n",
       "      <td>0.076286</td>\n",
       "      <td>0.109872</td>\n",
       "      <td>0.186159</td>\n",
       "    </tr>\n",
       "    <tr>\n",
       "      <th>8</th>\n",
       "      <td>9</td>\n",
       "      <td>0.090696</td>\n",
       "      <td>0.102426</td>\n",
       "      <td>0.193122</td>\n",
       "    </tr>\n",
       "    <tr>\n",
       "      <th>9</th>\n",
       "      <td>10</td>\n",
       "      <td>0.105270</td>\n",
       "      <td>0.095711</td>\n",
       "      <td>0.200981</td>\n",
       "    </tr>\n",
       "    <tr>\n",
       "      <th>10</th>\n",
       "      <td>11</td>\n",
       "      <td>0.119886</td>\n",
       "      <td>0.089636</td>\n",
       "      <td>0.209521</td>\n",
       "    </tr>\n",
       "    <tr>\n",
       "      <th>11</th>\n",
       "      <td>12</td>\n",
       "      <td>0.134450</td>\n",
       "      <td>0.084121</td>\n",
       "      <td>0.218572</td>\n",
       "    </tr>\n",
       "    <tr>\n",
       "      <th>12</th>\n",
       "      <td>13</td>\n",
       "      <td>0.148893</td>\n",
       "      <td>0.079100</td>\n",
       "      <td>0.227993</td>\n",
       "    </tr>\n",
       "    <tr>\n",
       "      <th>13</th>\n",
       "      <td>14</td>\n",
       "      <td>0.163159</td>\n",
       "      <td>0.074516</td>\n",
       "      <td>0.237674</td>\n",
       "    </tr>\n",
       "    <tr>\n",
       "      <th>14</th>\n",
       "      <td>15</td>\n",
       "      <td>0.177207</td>\n",
       "      <td>0.070318</td>\n",
       "      <td>0.247526</td>\n",
       "    </tr>\n",
       "    <tr>\n",
       "      <th>15</th>\n",
       "      <td>16</td>\n",
       "      <td>0.191008</td>\n",
       "      <td>0.066466</td>\n",
       "      <td>0.257474</td>\n",
       "    </tr>\n",
       "    <tr>\n",
       "      <th>16</th>\n",
       "      <td>17</td>\n",
       "      <td>0.204539</td>\n",
       "      <td>0.062922</td>\n",
       "      <td>0.267460</td>\n",
       "    </tr>\n",
       "    <tr>\n",
       "      <th>17</th>\n",
       "      <td>18</td>\n",
       "      <td>0.217784</td>\n",
       "      <td>0.059654</td>\n",
       "      <td>0.277438</td>\n",
       "    </tr>\n",
       "    <tr>\n",
       "      <th>18</th>\n",
       "      <td>19</td>\n",
       "      <td>0.230735</td>\n",
       "      <td>0.056634</td>\n",
       "      <td>0.287369</td>\n",
       "    </tr>\n",
       "    <tr>\n",
       "      <th>19</th>\n",
       "      <td>20</td>\n",
       "      <td>0.243384</td>\n",
       "      <td>0.053837</td>\n",
       "      <td>0.297222</td>\n",
       "    </tr>\n",
       "  </tbody>\n",
       "</table>\n",
       "</div>"
      ],
      "text/plain": [
       "    Lambda     bias2  variance       MSE\n",
       "0        1  0.001220  0.195329  0.196549\n",
       "1        2  0.006209  0.177975  0.184185\n",
       "2        3  0.014126  0.162835  0.176961\n",
       "3        4  0.024201  0.149549  0.173749\n",
       "4        5  0.035851  0.137824  0.173675\n",
       "5        6  0.048630  0.127426  0.176056\n",
       "6        7  0.062197  0.118162  0.180358\n",
       "7        8  0.076286  0.109872  0.186159\n",
       "8        9  0.090696  0.102426  0.193122\n",
       "9       10  0.105270  0.095711  0.200981\n",
       "10      11  0.119886  0.089636  0.209521\n",
       "11      12  0.134450  0.084121  0.218572\n",
       "12      13  0.148893  0.079100  0.227993\n",
       "13      14  0.163159  0.074516  0.237674\n",
       "14      15  0.177207  0.070318  0.247526\n",
       "15      16  0.191008  0.066466  0.257474\n",
       "16      17  0.204539  0.062922  0.267460\n",
       "17      18  0.217784  0.059654  0.277438\n",
       "18      19  0.230735  0.056634  0.287369\n",
       "19      20  0.243384  0.053837  0.297222"
      ]
     },
     "execution_count": 377,
     "metadata": {},
     "output_type": "execute_result"
    }
   ],
   "source": [
    "results = []\n",
    "#Repeat part b), say, 1000 times\n",
    "R = 1000\n",
    "\n",
    "Beta0 = 1\n",
    "n = 20\n",
    "for _ in range(R):\n",
    "    epsilon = np.random.normal(0, 2, n)\n",
    "    Y = Beta0 + epsilon\n",
    "\n",
    "    lambresults = []\n",
    "    for lamb in range(20):\n",
    "\n",
    "        loop = []\n",
    "        for i in range(n):\n",
    "            loop.append(Y[i]/(n+lamb+1))\n",
    "\n",
    "        lambresults.append(sum(loop))\n",
    "    \n",
    "    results.append(lambresults)\n",
    "\n",
    "\n",
    "\n",
    "\n",
    "# Compute bias2, variance and MSE\n",
    "results = np.array(results)\n",
    "bias2 = (np.mean(results, axis=0) - Beta0)**2\n",
    "variance = np.var(results, axis=0)\n",
    "mse = np.mean((results - Beta0) ** 2, axis=0)\n",
    "\n",
    "# Organize results into a table\n",
    "df = pd.DataFrame({\n",
    "    'Lambda': np.arange(1,21,1),\n",
    "    'bias2': bias2.flatten(),\n",
    "    'variance': variance.flatten(),\n",
    "    'MSE': mse.flatten()\n",
    "})\n",
    "df"
   ]
  },
  {
   "cell_type": "markdown",
   "metadata": {},
   "source": [
    "## D.: Plot"
   ]
  },
  {
   "cell_type": "code",
   "execution_count": 378,
   "metadata": {},
   "outputs": [
    {
     "data": {
      "image/png": "[encoded data removed]",
      "text/plain": [
       "<Figure size 640x480 with 1 Axes>"
      ]
     },
     "metadata": {},
     "output_type": "display_data"
    }
   ],
   "source": [
    "plt.plot(np.arange(1,21,1), bias2, label='Bias^2')\n",
    "plt.plot(np.arange(1,21,1), variance, label='Variance')\n",
    "plt.plot(np.arange(1,21,1), mse, label='MSE')\n",
    "plt.xlabel('Lambda')\n",
    "plt.legend()\n",
    "plt.show()"
   ]
  },
  {
   "cell_type": "markdown",
   "metadata": {},
   "source": [
    "# 2"
   ]
  },
  {
   "cell_type": "markdown",
   "metadata": {},
   "source": [
    "## A.: As we increase s from 0, the training RSS will:"
   ]
  },
  {
   "cell_type": "markdown",
   "metadata": {},
   "source": [
    "IV. Steadily decrease\n",
    "\n",
    "The minimization is like the selection of the parameters in the LASSO model. RSS equeals to the minimization and increasing the value of s, will ultimately leads to a decrease of it for the training, as sum|βj | ≤ s, and from the minimization, we subtract sum|βj |, leading a decreasing value."
   ]
  },
  {
   "cell_type": "markdown",
   "metadata": {},
   "source": [
    "## B.: Repeat (a) for test RSS"
   ]
  },
  {
   "cell_type": "markdown",
   "metadata": {},
   "source": [
    "II. Decrease initially, and then eventually start increasing in a U shape.\n",
    "\n",
    "An increase of s leads to an increased flexibility for the model, where the RSS for the test will decrease, until it reaches the point, where it starts to overfit. From this point, the RSS will start to increase, creating an U shape."
   ]
  },
  {
   "cell_type": "markdown",
   "metadata": {},
   "source": [
    "## C.: Repeat (a) for variance"
   ]
  },
  {
   "cell_type": "markdown",
   "metadata": {},
   "source": [
    "III. Steadily Increase\n",
    "\n",
    "As s increasing, the flexibility of the model increases as well, thus the variance will also increase at the end."
   ]
  },
  {
   "cell_type": "markdown",
   "metadata": {},
   "source": [
    "## D.: Repeat (a) for (squared) bias."
   ]
  },
  {
   "cell_type": "markdown",
   "metadata": {},
   "source": [
    "IV. Steadily decrease\n",
    "\n",
    "The increase of the model's flexibility leads to a decrease on the squared bias."
   ]
  },
  {
   "cell_type": "markdown",
   "metadata": {},
   "source": [
    "## E.: Repeat (a) for the irreducible error."
   ]
  },
  {
   "cell_type": "markdown",
   "metadata": {},
   "source": [
    "V. Remain constant\n",
    "\n",
    "The irreducible error is the variance of the noise ϵ. Because ϵ is independent from X and Y, increasing the value of s, won't change ϵ."
   ]
  },
  {
   "cell_type": "markdown",
   "metadata": {},
   "source": [
    "# 3"
   ]
  },
  {
   "cell_type": "markdown",
   "metadata": {},
   "source": [
    "## Preperation"
   ]
  },
  {
   "cell_type": "code",
   "execution_count": 379,
   "metadata": {},
   "outputs": [],
   "source": [
    "# Generate correlated features\n",
    "def generateRandomCovarianceVarianceMatrix(n_features):\n",
    "    random_matrix = np.random.rand(n_features, n_features)\n",
    "\n",
    "    # Create a symmetric matrix by taking the average of the matrix and its transpose\n",
    "    var_cov_matrix = (random_matrix + random_matrix.T) / 2\n",
    "    \n",
    "    # Ensure the diagonal elements represent variances (non-negative values)\n",
    "    var_cov_matrix[np.diag_indices(n_features)] = np.abs(var_cov_matrix[np.diag_indices(n_features)])\n",
    "\n",
    "    # Ensure positive semidefiniteness\n",
    "    eigenvalues, eigenvectors = np.linalg.eigh(var_cov_matrix)\n",
    "    eigenvalues[eigenvalues < 0] = 0  # Replace negative eigenvalues with 0\n",
    "    var_cov_matrix = np.dot(eigenvectors, np.dot(np.diag(eigenvalues), eigenvectors.T))\n",
    "\n",
    "    return var_cov_matrix\n",
    "\n",
    "def generateCorrelatedFeatures(n_features, n_samples, vc_matrix=None):\n",
    "    if vc_matrix is None:\n",
    "        vc_matrix = generateRandomCovarianceVarianceMatrix(n_features)\n",
    "        \n",
    "    return np.random.multivariate_normal(np.repeat(0, n_features), vc_matrix, size=n_samples)\n",
    "    "
   ]
  },
  {
   "cell_type": "code",
   "execution_count": 380,
   "metadata": {},
   "outputs": [],
   "source": [
    "# dense beta\n",
    "Beta0 = 1\n",
    "\n",
    "Betas = np.random.uniform(0,1,50)"
   ]
  },
  {
   "cell_type": "markdown",
   "metadata": {},
   "source": [
    "## A.: Load data, declare train and test set"
   ]
  },
  {
   "cell_type": "code",
   "execution_count": 381,
   "metadata": {},
   "outputs": [],
   "source": [
    "# Read CSV\n",
    "data = pd.read_csv(\"https://raw.githubusercontent.com/00Dabide/Data_Science_1_Final_Assignment/main/PCA_data.csv\")"
   ]
  },
  {
   "cell_type": "code",
   "execution_count": 382,
   "metadata": {},
   "outputs": [
    {
     "name": "stdout",
     "output_type": "stream",
     "text": [
      "Dimensions of variables dataframe: (1000, 50)\n"
     ]
    }
   ],
   "source": [
    "# train and test data\n",
    "data_train = data[:500]\n",
    "data_test = data[500:]\n",
    "\n",
    "#(X1 - X50)\n",
    "variables = data.iloc[:, 1:51]\n",
    "print('Dimensions of variables dataframe:', variables.shape)"
   ]
  },
  {
   "cell_type": "markdown",
   "metadata": {},
   "source": [
    "## B.: Compute the first 10 principal components"
   ]
  },
  {
   "cell_type": "code",
   "execution_count": 383,
   "metadata": {},
   "outputs": [],
   "source": [
    "# Declare PCA\n",
    "pca = PCA(n_components=10)\n",
    "\n",
    "# Fit the PCA model to the data\n",
    "principal_components = pca.fit_transform(variables)"
   ]
  },
  {
   "cell_type": "code",
   "execution_count": 384,
   "metadata": {},
   "outputs": [
    {
     "data": {
      "text/plain": [
       "array([[ 1.55100242, -2.97019884,  0.26666944, ..., -1.88455425,\n",
       "         1.26002687, -1.04154732],\n",
       "       [ 2.7965543 , -2.47836826, -0.53786032, ..., -2.157129  ,\n",
       "        -0.3719966 , -0.73044631],\n",
       "       [-4.25873172, -2.64691161,  0.10108602, ...,  1.01504052,\n",
       "         0.33772198,  0.22666609],\n",
       "       ...,\n",
       "       [-0.83807422,  4.70691391,  1.03658506, ..., -0.96908548,\n",
       "        -2.11933201, -0.7523845 ],\n",
       "       [ 0.8590044 , -0.01541239,  0.88191941, ..., -3.6143217 ,\n",
       "         2.57594036,  1.0558713 ],\n",
       "       [-0.47049128, -2.16708362,  1.51996462, ..., -0.36600118,\n",
       "        -0.06790252,  1.36274528]])"
      ]
     },
     "execution_count": 384,
     "metadata": {},
     "output_type": "execute_result"
    }
   ],
   "source": [
    "# First 10 principal component for every feature\n",
    "principal_components[:,0:10]"
   ]
  },
  {
   "cell_type": "markdown",
   "metadata": {},
   "source": [
    "## C-D.: estimate OLS/PCA over train data and predict test data"
   ]
  },
  {
   "cell_type": "code",
   "execution_count": 385,
   "metadata": {},
   "outputs": [],
   "source": [
    "#Create X with noise and Y from train data\n",
    "X_train = np.array(data_train.iloc[:,1:51]) \n",
    "Y_train = np.array(data_train.iloc[:,0])\n",
    "\n",
    "#Create X and Y from test data\n",
    "X_test = np.array(data_test.iloc[:,1:51])\n",
    "Y_test = np.array(data_test.iloc[:,0])\n",
    "\n",
    "mse_results = []"
   ]
  },
  {
   "cell_type": "code",
   "execution_count": 386,
   "metadata": {},
   "outputs": [],
   "source": [
    "# OLS\n",
    "linreg_all_features = LinearRegression().fit(X_train, Y_train)\n",
    "prediction = linreg_all_features.predict(X_test)\n",
    "mse_all = np.mean((prediction - Y_test)**2)\n",
    "mse_results.append(mse_all)"
   ]
  },
  {
   "cell_type": "code",
   "execution_count": 387,
   "metadata": {},
   "outputs": [
    {
     "name": "stderr",
     "output_type": "stream",
     "text": [
      "C:\\Users\\Szabados\\AppData\\Local\\Packages\\PythonSoftwareFoundation.Python.3.11_qbz5n2kfra8p0\\LocalCache\\local-packages\\Python311\\site-packages\\sklearn\\base.py:465: UserWarning: X does not have valid feature names, but PCA was fitted with feature names\n",
      "  warnings.warn(\n",
      "C:\\Users\\Szabados\\AppData\\Local\\Packages\\PythonSoftwareFoundation.Python.3.11_qbz5n2kfra8p0\\LocalCache\\local-packages\\Python311\\site-packages\\sklearn\\base.py:465: UserWarning: X does not have valid feature names, but PCA was fitted with feature names\n",
      "  warnings.warn(\n",
      "C:\\Users\\Szabados\\AppData\\Local\\Packages\\PythonSoftwareFoundation.Python.3.11_qbz5n2kfra8p0\\LocalCache\\local-packages\\Python311\\site-packages\\sklearn\\base.py:465: UserWarning: X does not have valid feature names, but PCA was fitted with feature names\n",
      "  warnings.warn(\n"
     ]
    }
   ],
   "source": [
    "# get the training part of the principal components\n",
    "principal_components = principal_components[:500]\n",
    "\n",
    "# TODO: Calculate MSE of OLS models by changing how many principal components is used\n",
    "for i in [1,5,10]:\n",
    "    n_pc = i\n",
    "    linreg_pca = LinearRegression().fit(principal_components[:,:n_pc], Y_train)\n",
    "    prediction = linreg_pca.predict(pca.transform(X_test)[:,:n_pc])\n",
    "    mse_pca = np.mean((prediction - Y_test)**2)\n",
    "    mse_results.append(mse_pca)"
   ]
  },
  {
   "cell_type": "code",
   "execution_count": 388,
   "metadata": {},
   "outputs": [
    {
     "data": {
      "text/html": [
       "<div>\n",
       "<style scoped>\n",
       "    .dataframe tbody tr th:only-of-type {\n",
       "        vertical-align: middle;\n",
       "    }\n",
       "\n",
       "    .dataframe tbody tr th {\n",
       "        vertical-align: top;\n",
       "    }\n",
       "\n",
       "    .dataframe thead th {\n",
       "        text-align: right;\n",
       "    }\n",
       "</style>\n",
       "<table border=\"1\" class=\"dataframe\">\n",
       "  <thead>\n",
       "    <tr style=\"text-align: right;\">\n",
       "      <th></th>\n",
       "      <th>Model</th>\n",
       "      <th>Results N = 500</th>\n",
       "    </tr>\n",
       "  </thead>\n",
       "  <tbody>\n",
       "    <tr>\n",
       "      <th>0</th>\n",
       "      <td>OLS</td>\n",
       "      <td>4.334077</td>\n",
       "    </tr>\n",
       "    <tr>\n",
       "      <th>1</th>\n",
       "      <td>PCA = 1</td>\n",
       "      <td>15.006067</td>\n",
       "    </tr>\n",
       "    <tr>\n",
       "      <th>2</th>\n",
       "      <td>PCA = 5</td>\n",
       "      <td>12.924215</td>\n",
       "    </tr>\n",
       "    <tr>\n",
       "      <th>3</th>\n",
       "      <td>PCA = 10</td>\n",
       "      <td>8.459278</td>\n",
       "    </tr>\n",
       "  </tbody>\n",
       "</table>\n",
       "</div>"
      ],
      "text/plain": [
       "      Model  Results N = 500\n",
       "0       OLS         4.334077\n",
       "1   PCA = 1        15.006067\n",
       "2   PCA = 5        12.924215\n",
       "3  PCA = 10         8.459278"
      ]
     },
     "execution_count": 388,
     "metadata": {},
     "output_type": "execute_result"
    }
   ],
   "source": [
    "df = pd.DataFrame({\n",
    "    'Model': [\"OLS\",\"PCA = 1\",\"PCA = 5\",\"PCA = 10\"],\n",
    "    'Results N = 500': mse_results\n",
    "})\n",
    "\n",
    "df"
   ]
  },
  {
   "cell_type": "markdown",
   "metadata": {},
   "source": [
    "## E.: Explaining the Slide"
   ]
  },
  {
   "cell_type": "markdown",
   "metadata": {},
   "source": [
    "- N = 75:\n",
    "    - In a sample size of 75, the best predictor is the PCA with 10 features, while those PCA where only 5 and 1 features have been used, did worse. OLS was the second best in this sample size.\n",
    "\n",
    "- N = 500:\n",
    "    - In a sample size of 500, the best predictor is the OLS, by a mile, while for the PCAs, their own rankings between themselves stayed the same, where using more features is better.\n",
    "\n",
    "Overally, we can see a trend, where if we increase the sample size, the OLS as a predictor model get's better and better. This is also true for the three PCA model, but they does not get better as much, as the OLS.\n",
    "\n",
    "My opinion is about this slide, that if our sample size is low, the PCA model with more features predicts better, than the OLS, but if our sample is big enough or we can increase it, then the OLS will have a better result over the PCA models."
   ]
  }
 ],
 "metadata": {
  "kernelspec": {
   "display_name": "Python 3",
   "language": "python",
   "name": "python3"
  },
  "language_info": {
   "codemirror_mode": {
    "name": "ipython",
    "version": 3
   },
   "file_extension": ".py",
   "mimetype": "text/x-python",
   "name": "python",
   "nbconvert_exporter": "python",
   "pygments_lexer": "ipython3",
   "version": "3.11.8"
  }
 },
 "nbformat": 4,
 "nbformat_minor": 2
}
